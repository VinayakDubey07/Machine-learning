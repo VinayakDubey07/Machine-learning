{
  "nbformat": 4,
  "nbformat_minor": 0,
  "metadata": {
    "colab": {
      "provenance": [],
      "authorship_tag": "ABX9TyPxW5hSURuEl5ewynRhvIss",
      "include_colab_link": true
    },
    "kernelspec": {
      "name": "python3",
      "display_name": "Python 3"
    },
    "language_info": {
      "name": "python"
    }
  },
  "cells": [
    {
      "cell_type": "markdown",
      "metadata": {
        "id": "view-in-github",
        "colab_type": "text"
      },
      "source": [
        "<a href=\"https://colab.research.google.com/github/VinayakDubey07/Machine-learning/blob/main/ML_Lab_2.ipynb\" target=\"_parent\"><img src=\"https://colab.research.google.com/assets/colab-badge.svg\" alt=\"Open In Colab\"/></a>"
      ]
    },
    {
      "cell_type": "code",
      "execution_count": null,
      "metadata": {
        "colab": {
          "base_uri": "https://localhost:8080/"
        },
        "id": "QzQhb7mgcQbn",
        "outputId": "af12f478-0131-4b4a-cf4b-4e2c2e201483"
      },
      "outputs": [
        {
          "output_type": "stream",
          "name": "stdout",
          "text": [
            "Resource 1- https://drive.google.com/drive/folders/1p9nYuma31Ja12ddKMub1z0X0f9xJkMRW\n",
            "Resourse 2- https://mega.nz/folder/5Wp3nIiD#qsenYaT31KWhSEGGEAzOAQ\n",
            "Resource 3 -\n",
            "https://mega.nz/folder/w8VHhSaY#fsM0AdXn8a3bRljWfJSdVg/folder/V58R3K7A\n",
            "Resource 4 -\n",
            "https://mega.nz/folder/ObJWzRKI#UB4HuTAhgo_NxM8v4H-bKQ\n",
            "Resource 5 - https://drive.google.com/drive/folders/146DhOTj8Pbm5ISfdYMSTNFqu6dTb1-Tp\n",
            "Resource 6 - \n",
            "https://drive.google.com/drive/folders/1MrZVfTBmUeY18OFNMozBw7GhBdN1Fblb\n",
            "Resource 7 - https://drive.google.com/drive/u/0/mobile/folders/1ASdn3H_kF_HsNswsQc4F3rh_PHmGNjKK?fbclid=IwAR2vBJcueF1YA5zNU6kvkKox6G12J00m8b8HlSmZE2YgjeIQ7BC-AXwmupo\n",
            "Resource 8- https://mega.nz/folder/ucYEEJaS#8GZznbWUgrVl7HxQY_DsFw\n",
            "\n",
            "\n",
            "📚 Download and Read Unlimited E-Books Online | 2022 Collection 📚\n",
            "\n",
            "https://forcoder.su\n",
            "http://www.freebookspot.es\n",
            "https://textbooknova.com\n",
            "http://www.gutenberg.org\n",
            "https://manybooks.net\n",
            "https://oll.libertyfund.org\n",
            "http://ishare.iask.sina.com.cn\n",
            "https://archive.org/details/texts\n",
            "https://libgen.fun\n",
            "https://z-lib.org\n",
            "https://www.pdfdrive.com\n",
            "https://the-eye.eu/public/Books\n",
            "https://b-ok.asia/\n",
            "\n",
            "Keep Learning  Keep Reading Keep Progressive 👍\n",
            "\n",
            "\n",
            "[]\n"
          ]
        }
      ],
      "source": [
        "f = open(\"/content/resources.txt\",\"r\")\n",
        "print(f.read())\n",
        "print(f.read(15))\n",
        "print(f.readline())\n",
        "print(f.readlines())\n",
        "\n",
        "for x in f:\n",
        "  print(x)\n",
        "  f.close()"
      ]
    },
    {
      "cell_type": "code",
      "source": [
        "f = open(\"/content/resources.txt\",\"r\")\n",
        "\n",
        "print(f.readline())\n",
        "\n"
      ],
      "metadata": {
        "colab": {
          "base_uri": "https://localhost:8080/"
        },
        "id": "SkYlM6i8g1zB",
        "outputId": "03374864-e43e-4848-e6c5-07a202f58d09"
      },
      "execution_count": null,
      "outputs": [
        {
          "output_type": "stream",
          "name": "stdout",
          "text": [
            "Resource 1- https://drive.google.com/drive/folders/1p9nYuma31Ja12ddKMub1z0X0f9xJkMRW\n",
            "\n"
          ]
        }
      ]
    },
    {
      "cell_type": "code",
      "source": [
        "f = open(\"/content/resources.txt\",\"r\")\n",
        "\n",
        "\n",
        "print(f.readlines())\n"
      ],
      "metadata": {
        "colab": {
          "base_uri": "https://localhost:8080/"
        },
        "id": "wpnNV3T8g5NI",
        "outputId": "f2fb073a-7fcc-4524-b1f7-2f0fbf1384f9"
      },
      "execution_count": null,
      "outputs": [
        {
          "output_type": "stream",
          "name": "stdout",
          "text": [
            "['Resource 1- https://drive.google.com/drive/folders/1p9nYuma31Ja12ddKMub1z0X0f9xJkMRW\\n', 'Resourse 2- https://mega.nz/folder/5Wp3nIiD#qsenYaT31KWhSEGGEAzOAQ\\n', 'Resource 3 -\\n', 'https://mega.nz/folder/w8VHhSaY#fsM0AdXn8a3bRljWfJSdVg/folder/V58R3K7A\\n', 'Resource 4 -\\n', 'https://mega.nz/folder/ObJWzRKI#UB4HuTAhgo_NxM8v4H-bKQ\\n', 'Resource 5 - https://drive.google.com/drive/folders/146DhOTj8Pbm5ISfdYMSTNFqu6dTb1-Tp\\n', 'Resource 6 - \\n', 'https://drive.google.com/drive/folders/1MrZVfTBmUeY18OFNMozBw7GhBdN1Fblb\\n', 'Resource 7 - https://drive.google.com/drive/u/0/mobile/folders/1ASdn3H_kF_HsNswsQc4F3rh_PHmGNjKK?fbclid=IwAR2vBJcueF1YA5zNU6kvkKox6G12J00m8b8HlSmZE2YgjeIQ7BC-AXwmupo\\n', 'Resource 8- https://mega.nz/folder/ucYEEJaS#8GZznbWUgrVl7HxQY_DsFw\\n', '\\n', '\\n', '📚 Download and Read Unlimited E-Books Online | 2022 Collection 📚\\n', '\\n', 'https://forcoder.su\\n', 'http://www.freebookspot.es\\n', 'https://textbooknova.com\\n', 'http://www.gutenberg.org\\n', 'https://manybooks.net\\n', 'https://oll.libertyfund.org\\n', 'http://ishare.iask.sina.com.cn\\n', 'https://archive.org/details/texts\\n', 'https://libgen.fun\\n', 'https://z-lib.org\\n', 'https://www.pdfdrive.com\\n', 'https://the-eye.eu/public/Books\\n', 'https://b-ok.asia/\\n', '\\n', 'Keep Learning  Keep Reading Keep Progressive 👍']\n"
          ]
        }
      ]
    },
    {
      "cell_type": "code",
      "source": [
        "f = open(\"/content/resources.txt\",\"r\")\n",
        "\n",
        "print(f.read(15))\n",
        "\n",
        "\n"
      ],
      "metadata": {
        "colab": {
          "base_uri": "https://localhost:8080/"
        },
        "id": "aHsEtEEhhHAe",
        "outputId": "79d3bc89-7375-43d0-dc9f-bb69db52be91"
      },
      "execution_count": null,
      "outputs": [
        {
          "output_type": "stream",
          "name": "stdout",
          "text": [
            "Resource 1- htt\n"
          ]
        }
      ]
    },
    {
      "cell_type": "code",
      "source": [
        "f = open(\"/content/resources.txt\",\"r\")\n",
        "\n",
        "print(f.read(15))\n",
        "print(f.readline())\n",
        "print(f.readlines())\n",
        "\n",
        "for x in f:\n",
        "  print(x)\n",
        "  f.close()"
      ],
      "metadata": {
        "colab": {
          "base_uri": "https://localhost:8080/"
        },
        "id": "xXpwU31wh5_i",
        "outputId": "264c2f95-475d-472e-ab22-206fc016fbe1"
      },
      "execution_count": null,
      "outputs": [
        {
          "output_type": "stream",
          "name": "stdout",
          "text": [
            "Resource 1- https://drive.google.com/drive/folders/1p9nYuma31Ja12ddKMub1z0X0f9xJkMRW\n",
            "Resourse 2- https://mega.nz/folder/5Wp3nIiD#qsenYaT31KWhSEGGEAzOAQ\n",
            "Resource 3 -\n",
            "https://mega.nz/folder/w8VHhSaY#fsM0AdXn8a3bRljWfJSdVg/folder/V58R3K7A\n",
            "Resource 4 -\n",
            "https://mega.nz/folder/ObJWzRKI#UB4HuTAhgo_NxM8v4H-bKQ\n",
            "Resource 5 - https://drive.google.com/drive/folders/146DhOTj8Pbm5ISfdYMSTNFqu6dTb1-Tp\n",
            "Resource 6 - \n",
            "https://drive.google.com/drive/folders/1MrZVfTBmUeY18OFNMozBw7GhBdN1Fblb\n",
            "Resource 7 - https://drive.google.com/drive/u/0/mobile/folders/1ASdn3H_kF_HsNswsQc4F3rh_PHmGNjKK?fbclid=IwAR2vBJcueF1YA5zNU6kvkKox6G12J00m8b8HlSmZE2YgjeIQ7BC-AXwmupo\n",
            "Resource 8- https://mega.nz/folder/ucYEEJaS#8GZznbWUgrVl7HxQY_DsFw\n",
            "\n",
            "\n",
            "📚 Download and Read Unlimited E-Books Online | 2022 Collection 📚\n",
            "\n",
            "https://forcoder.su\n",
            "http://www.freebookspot.es\n",
            "https://textbooknova.com\n",
            "http://www.gutenberg.org\n",
            "https://manybooks.net\n",
            "https://oll.libertyfund.org\n",
            "http://ishare.iask.sina.com.cn\n",
            "https://archive.org/details/texts\n",
            "https://libgen.fun\n",
            "https://z-lib.org\n",
            "https://www.pdfdrive.com\n",
            "https://the-eye.eu/public/Books\n",
            "https://b-ok.asia/\n",
            "\n",
            "Keep Learning  Keep Reading Keep Progressive 👍\n",
            "\n",
            "\n",
            "[]\n"
          ]
        }
      ]
    },
    {
      "cell_type": "code",
      "source": [
        "f = open(\"/content/resources.txt\",\"w\")\n",
        "f.write(\"This is file handling program\")\n",
        "f.close()\n",
        "f = open(\"/content/resources.txt\",\"r\")\n",
        "print(f.read())\n",
        "f.close()\n",
        "f = open(\"/content/resources.txt\",\"a\")\n",
        "f.write(\"This is file appending program\")\n",
        "f.close()\n",
        "f = open(\"/content/resources.txt\",\"r\")\n",
        "print(f.read())\n",
        "f.close()"
      ],
      "metadata": {
        "colab": {
          "base_uri": "https://localhost:8080/"
        },
        "id": "TpbEADGmiaI8",
        "outputId": "28f2d13e-c7d9-4135-9519-5ad1065f1b3d"
      },
      "execution_count": null,
      "outputs": [
        {
          "output_type": "stream",
          "name": "stdout",
          "text": [
            "This is file handling program\n",
            "This is file handling programThis is file appending program\n"
          ]
        }
      ]
    },
    {
      "cell_type": "code",
      "source": [
        "f = open(\"/content/resources.txt\",\"r\")\n",
        "f.read()\n",
        "f1 = open(\"/content/demo.txt\",\"w\")\n",
        "for line in f:\n",
        " f1.write(line)\n",
        " print(f1.read())\n",
        " f1.read()\n",
        " f.read()\n",
        " "
      ],
      "metadata": {
        "id": "ytKgScoqj5Hu"
      },
      "execution_count": null,
      "outputs": []
    },
    {
      "cell_type": "code",
      "source": [
        "f = open(\"/content/resources.txt\",\"w\")\n",
        "f.write(\"Hi!\")\n",
        "f = open(\"/content/resources.txt\",\"r\")\n",
        "f.read()\n",
        "f1 = open(\"/content/demo.txt\",\"w+\")\n",
        "for line in f:\n",
        "  f1.write(line)\n",
        "  print(f1.read())"
      ],
      "metadata": {
        "id": "PedzAf1Vls7F"
      },
      "execution_count": null,
      "outputs": []
    },
    {
      "cell_type": "code",
      "source": [
        "f = open(\"/content/resources.txt\",\"w+\")\n",
        "f1 = open(\"/content/demo.txt\",\"w+\")\n",
        "\n",
        "line = f.read()\n",
        "f1.write(line)\n",
        "print(f1.read())"
      ],
      "metadata": {
        "colab": {
          "base_uri": "https://localhost:8080/"
        },
        "id": "OnteHUQKmv_z",
        "outputId": "12815ee3-28c5-43f9-ca9a-4aa8a40b165d"
      },
      "execution_count": null,
      "outputs": [
        {
          "output_type": "stream",
          "name": "stdout",
          "text": [
            "\n"
          ]
        }
      ]
    },
    {
      "cell_type": "code",
      "source": [
        "f1 = open(\"/content/demo.txt\",\"w\")\n",
        "f1.write(\"This is file handling program! Now we are appending the content to the file!\")\n",
        "f1.close()\n",
        "f1 = open(\"/content/demo.txt\",\"r\")\n",
        "print(f1.read())"
      ],
      "metadata": {
        "colab": {
          "base_uri": "https://localhost:8080/"
        },
        "id": "9yJDlj5gnTd7",
        "outputId": "1e07dfd4-264d-4405-fa49-3f9fc3580964"
      },
      "execution_count": null,
      "outputs": [
        {
          "output_type": "stream",
          "name": "stdout",
          "text": [
            "This is file handling program! Now we are appending the content to the file!\n"
          ]
        }
      ]
    },
    {
      "cell_type": "code",
      "source": [
        "f = open('/content/resources.txt', 'r')\n",
        "for lines in f.readlines():\n",
        "    print(lines, end='')\n",
        " \n",
        "\n",
        "f.close()"
      ],
      "metadata": {
        "colab": {
          "base_uri": "https://localhost:8080/"
        },
        "id": "e_8I3gYRobmw",
        "outputId": "8cacf7f5-d407-4575-897d-da6ec1e3cf73"
      },
      "execution_count": null,
      "outputs": [
        {
          "output_type": "stream",
          "name": "stdout",
          "text": [
            "Hi! i \n",
            "am \n",
            "vinayak \n"
          ]
        }
      ]
    },
    {
      "cell_type": "code",
      "source": [
        "w = [\"I \\n\", \"am \\n\", \"Vinayak \\n\"]\n",
        "with open(\"/content/demo.txt\",\"w\") as f1:\n",
        "  f1.write(\"Hi \\n\")\n",
        "  f1.writelines(w)\n",
        "  f1.close()\n",
        "with open('/content/demo.txt','r') as f1:\n",
        "  print(f1.read())"
      ],
      "metadata": {
        "colab": {
          "base_uri": "https://localhost:8080/"
        },
        "id": "kW9_FxCjpCd_",
        "outputId": "358265ed-c834-4f00-8ac4-05032a2a6520"
      },
      "execution_count": null,
      "outputs": [
        {
          "output_type": "stream",
          "name": "stdout",
          "text": [
            "Hi \n",
            "I \n",
            "am \n",
            "Vinayak \n",
            "\n"
          ]
        }
      ]
    },
    {
      "cell_type": "code",
      "source": [
        "import os \n",
        "directory = 'sample_data'\n",
        "for filename in os.listdir(directory):\n",
        "  f = os.path.join(directory, filename)\n",
        "  if os.path.isfile(f):\n",
        "   print(f)"
      ],
      "metadata": {
        "colab": {
          "base_uri": "https://localhost:8080/"
        },
        "id": "lGx_j7umqQ_J",
        "outputId": "054a14a0-205a-480e-e2ed-5bbb492f8364"
      },
      "execution_count": null,
      "outputs": [
        {
          "output_type": "stream",
          "name": "stdout",
          "text": [
            "sample_data/README.md\n",
            "sample_data/anscombe.json\n",
            "sample_data/california_housing_test.csv\n",
            "sample_data/mnist_train_small.csv\n",
            "sample_data/california_housing_train.csv\n",
            "sample_data/mnist_test.csv\n"
          ]
        }
      ]
    },
    {
      "cell_type": "code",
      "source": [
        "ccfile = open('/content/data.txt','r')\n",
        "\n",
        "for aline in ccfile:\n",
        "  values = aline.split()\n",
        "  print('In', values[0],'the USNs are',values[1],'names are', values[2],'and hes sitting on',values[3],'bench')\n",
        " "
      ],
      "metadata": {
        "colab": {
          "base_uri": "https://localhost:8080/"
        },
        "id": "suZBKesVsA3m",
        "outputId": "d84170ea-49f2-4e9d-ca9a-6e73aead2aeb"
      },
      "execution_count": null,
      "outputs": [
        {
          "output_type": "stream",
          "name": "stdout",
          "text": [
            "In 1. the USNs are 1BM201S182 names are Raju and hes sitting on First bench\n",
            "In 2. the USNs are 1BM201S183 names are Raju and hes sitting on second bench\n",
            "In 3. the USNs are 1BM201S184 names are Raju and hes sitting on third bench\n",
            "In 4. the USNs are 1BM201S185 names are Raju and hes sitting on fourth bench\n",
            "In 5. the USNs are 1BM201S186 names are Raju and hes sitting on fifth bench\n",
            "In 6. the USNs are 1BM201S187 names are Raju and hes sitting on sixth bench\n",
            "In 7. the USNs are 1BM201S188 names are Raju and hes sitting on seven bench\n",
            "In 8. the USNs are 1BM201S189 names are Raju and hes sitting on eighth bench\n",
            "In 9. the USNs are 1BM201S177 names are Raju and hes sitting on ninth bench\n",
            "In 10. the USNs are 1BM201S160 names are Raju and hes sitting on tenth bench\n"
          ]
        }
      ]
    },
    {
      "cell_type": "code",
      "source": [
        "f = open(\"/content/data.txt\",\"wb\")\n",
        "print(\"name:\",f.name)\n",
        "print(\"file is closed:\",f.closed)\n",
        "print(\"file has been opened in:\",f.mode)\n",
        "print(\"File is now being closed\")\n",
        "f.close()"
      ],
      "metadata": {
        "colab": {
          "base_uri": "https://localhost:8080/"
        },
        "id": "3Kima4bxujIH",
        "outputId": "50052e63-fc10-4f60-d856-4f63f389badc"
      },
      "execution_count": null,
      "outputs": [
        {
          "output_type": "stream",
          "name": "stdout",
          "text": [
            "name: /content/data.txt\n",
            "file is closed: False\n",
            "file has been opened in: wb\n",
            "File is now being closed\n"
          ]
        }
      ]
    },
    {
      "cell_type": "markdown",
      "source": [
        "# New Section"
      ],
      "metadata": {
        "id": "CDFNr5h-fLyu"
      }
    }
  ]
}