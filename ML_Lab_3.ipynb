{
  "nbformat": 4,
  "nbformat_minor": 0,
  "metadata": {
    "colab": {
      "provenance": [],
      "authorship_tag": "ABX9TyNvmYVj2hKt1Apj9u8SzI1j",
      "include_colab_link": true
    },
    "kernelspec": {
      "name": "python3",
      "display_name": "Python 3"
    },
    "language_info": {
      "name": "python"
    }
  },
  "cells": [
    {
      "cell_type": "markdown",
      "metadata": {
        "id": "view-in-github",
        "colab_type": "text"
      },
      "source": [
        "<a href=\"https://colab.research.google.com/github/VinayakDubey07/Machine-learning/blob/main/ML_Lab_3.ipynb\" target=\"_parent\"><img src=\"https://colab.research.google.com/assets/colab-badge.svg\" alt=\"Open In Colab\"/></a>"
      ]
    },
    {
      "cell_type": "code",
      "execution_count": null,
      "metadata": {
        "colab": {
          "base_uri": "https://localhost:8080/"
        },
        "id": "HWMW1iD29_th",
        "outputId": "eddc46f9-db9a-41f3-8368-e299379bc9ea"
      },
      "outputs": [
        {
          "output_type": "stream",
          "name": "stdout",
          "text": [
            "Hi i m \n",
            "\n"
          ]
        }
      ],
      "source": [
        "file = open('MAd1.txt', 'r')\n",
        "line = file.readline()\n",
        "while line:\n",
        "  if line:\n",
        "    if line[0].isupper():\n",
        "      print(line)\n",
        "  line = file.readline()\n",
        "file.close()"
      ]
    },
    {
      "cell_type": "code",
      "source": [
        "def letterFrequency(fileName, letter):\n",
        "  file = open(fileName, 'r')\n",
        "  text = file.read()\n",
        "  return text.count(letter)\n",
        "\n",
        "print(letterFrequency('MAd1.txt','g'))"
      ],
      "metadata": {
        "colab": {
          "base_uri": "https://localhost:8080/"
        },
        "id": "f5JvBNUVAZi9",
        "outputId": "60254351-5421-4cb3-dcab-24c8d61ebaf3"
      },
      "execution_count": null,
      "outputs": [
        {
          "output_type": "stream",
          "name": "stdout",
          "text": [
            "2\n"
          ]
        }
      ]
    },
    {
      "cell_type": "code",
      "source": [
        "import pickle\n",
        "\n",
        "file = open(\"Pathwalla.dat\",\"wb\")\n",
        "\n",
        "while True :\n",
        "\tdic = { }\n",
        "\tItem_No = int(input(\"Enter Item no.\")) \n",
        "\tItem_Name = input(\"Enter Item name :-\")\n",
        "\tQty = int(input(\"Enter Quantity :- \"))\n",
        "\tPrice = float(input(\"Enter price :-\"))\n",
        "\t\n",
        "\tdic[ \"Item_No\" ] =  Item_No\n",
        "\tdic[ \"Item_Name\" ] =  Item_Name \n",
        "\tdic[ \"Qty\" ] =  Qty \n",
        "\tdic[ \"Price\" ] = Price \n",
        "\tpickle.dump( dic , file )\n",
        "\tprint()\n",
        "\tans = input(\"Do you want to quit Enter [ Y/N ] :-\")\n",
        "\tif ans == \"y\" or ans == \"Y\" :\n",
        "\t\tbreak\n",
        "\tprint()\n",
        "\n",
        "file.close()\n",
        "print()\n",
        "file = open(\"Pathwalla.dat\",\"rb\")\n",
        "\n",
        "try :\n",
        "        while True :\n",
        "                dic = pickle.load(file)\n",
        "                print( \"Item No. :\",\"\\t\", dic[ \"Item_No\" ] )\n",
        "                print( \"Item Name :\",\"\\t\", dic[ \"Item_Name\" ] )\n",
        "                print( \"Quantity :\",\"\\t\", dic[ \"Qty\" ] )\n",
        "                print( \"Price of one :\",\"\\t\",dic[ \"Price\" ] )\n",
        "                print( \"Amount :\", \"\\t\" , dic[ \"Qty\" ] * dic[ \"Price\" ] )\n",
        "                print()\n",
        "except :\n",
        "\tfile.close()"
      ],
      "metadata": {
        "colab": {
          "base_uri": "https://localhost:8080/"
        },
        "id": "yjFzRQIbBQJ3",
        "outputId": "ca7c1901-4eee-4235-e502-5d12abed9540"
      },
      "execution_count": null,
      "outputs": [
        {
          "output_type": "stream",
          "name": "stdout",
          "text": [
            "Enter Item no.5\n",
            "Enter Item name :-sandesh\n",
            "Enter Quantity :- 1\n",
            "Enter price :-500\n",
            "\n",
            "Do you want to quit Enter [ Y/N ] :-y\n",
            "\n",
            "Item No. : \t 5\n",
            "Item Name : \t sandesh\n",
            "Quantity : \t 1\n",
            "Price of one : \t 500.0\n",
            "Amount : \t 500.0\n",
            "\n"
          ]
        }
      ]
    },
    {
      "cell_type": "code",
      "source": [
        "file = open(\"questions.txt\" , \"r\")\n",
        "file1 = open(\"answers.txt\" , \"r\")\n",
        "for aline in file:\n",
        "  values = aline.split('-')\n",
        " \n",
        "for aline in file1:\n",
        "  values1 = aline.split('-')\n",
        " \n",
        "print(values[0])\n",
        "print(\"Options: \")\n",
        "print(values[1])\n",
        "print(values[2])\n",
        "print(values[3])\n",
        "print(values[4])\n",
        "print(\"Answer: \", values1[0])"
      ],
      "metadata": {
        "colab": {
          "base_uri": "https://localhost:8080/"
        },
        "id": "GC93tyAFFUUG",
        "outputId": "466d2bb8-e085-4f43-9ca8-d2a6170b3b42"
      },
      "execution_count": null,
      "outputs": [
        {
          "output_type": "stream",
          "name": "stdout",
          "text": [
            "What is capital of India? \n",
            "Options: \n",
            " 1) Kolkata \n",
            " 1) GOD \n",
            " 1) New Delhi \n",
            " 1) Kolkata \n",
            "Answer:  New Delhi\n"
          ]
        }
      ]
    },
    {
      "cell_type": "code",
      "source": [
        "file = open(\"questions.txt\" , \"r\")\n",
        "file1 = open(\"answers.txt\" , \"r\")\n",
        " \n",
        "aline = file.readline()\n",
        "bline = file1.readline()\n",
        " \n",
        "while (aline!=\"\" and bline!=\"\"):\n",
        "  values = aline.split('-')\n",
        "  values1 = bline\n",
        "  print(values[0])\n",
        "  print(\"Options: \")\n",
        "  print(values[1])\n",
        "  print(values[2])\n",
        "  print(values[3])\n",
        "  print(values[4])\n",
        "  print(\"Answer: \", values1)\n",
        "  bline = file1.readline()\n",
        "  aline = file.readline()\n",
        " "
      ],
      "metadata": {
        "colab": {
          "base_uri": "https://localhost:8080/"
        },
        "id": "K9tWZLLKI2t7",
        "outputId": "042b7a19-c116-4904-d6fb-9d096e01771f"
      },
      "execution_count": null,
      "outputs": [
        {
          "output_type": "stream",
          "name": "stdout",
          "text": [
            "What is capital of India? \n",
            "Options: \n",
            " 1) Kolkata \n",
            " 1) GOD \n",
            " 1) New Delhi \n",
            " 1) Kolkata \n",
            "\n",
            "Answer:  New Delhi\n",
            "\n",
            "What is capital of India? \n",
            "Options: \n",
            " 1) Kolkata \n",
            " 1) GOD \n",
            " 1) New Delhi \n",
            " 1) Kolkata \n",
            "\n",
            "Answer:  New Delhi\n",
            "\n",
            "What is capital of India? \n",
            "Options: \n",
            " 1) Kolkata \n",
            " 1) GOD \n",
            " 1) New Delhi \n",
            " 1) Kolkata \n",
            "Answer:  New Delhi\n"
          ]
        }
      ]
    }
  ]
}